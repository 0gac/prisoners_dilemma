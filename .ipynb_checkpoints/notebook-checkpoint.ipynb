{
 "cells": [
  {
   "cell_type": "code",
   "execution_count": 1,
   "metadata": {},
   "outputs": [],
   "source": [
    "import numpy as np\n",
    "import prisoner_dilemma\n"
   ]
  },
  {
   "cell_type": "code",
   "execution_count": 2,
   "metadata": {},
   "outputs": [],
   "source": [
    "def e4e_af(prevActions: np.array):\n",
    "    return prevActions[1, -1]  \n",
    "\n",
    "def nice_af(prevActions: np.array):\n",
    "    return np.array([1])\n",
    "\n",
    "def nasty_af(prevActions: np.array):\n",
    "    return np.array([0])\n",
    "\n",
    "def random_af(prevActions: np.array):\n",
    "    return np.array([np.random.randint(0, 2)])\n",
    "\n",
    "e4e = prisoner_dilemma.Strategy(\"Eye for an Eye\", e4e_af, nice_af) \n",
    "random = prisoner_dilemma.Strategy(\"Random\", random_af, random_af)\n",
    "nice = prisoner_dilemma.Strategy(\"Nice\", nice_af, nice_af)\n",
    "nasty = prisoner_dilemma.Strategy(\"Nasty\", nasty_af, nasty_af)"
   ]
  },
  {
   "cell_type": "code",
   "execution_count": 3,
   "metadata": {},
   "outputs": [
    {
     "ename": "AxisError",
     "evalue": "axis 1 is out of bounds for array of dimension 1",
     "output_type": "error",
     "traceback": [
      "\u001b[0;31m---------------------------------------------------------------------------\u001b[0m",
      "\u001b[0;31mAxisError\u001b[0m                                 Traceback (most recent call last)",
      "Cell \u001b[0;32mIn[3], line 2\u001b[0m\n\u001b[1;32m      1\u001b[0m testmatch \u001b[38;5;241m=\u001b[39m prisoner_dilemma\u001b[38;5;241m.\u001b[39mMatch(nice, e4e)\n\u001b[0;32m----> 2\u001b[0m testmatch\u001b[38;5;241m.\u001b[39mplay()\n\u001b[1;32m      3\u001b[0m testmatch\u001b[38;5;241m.\u001b[39mprintscore()\n",
      "File \u001b[0;32m~/prisoner_dilemma/prisoner_dilemma.py:70\u001b[0m, in \u001b[0;36mMatch.play\u001b[0;34m(self)\u001b[0m\n\u001b[1;32m     68\u001b[0m     \u001b[38;5;28mself\u001b[39m\u001b[38;5;241m.\u001b[39mstrat2_actions \u001b[38;5;241m=\u001b[39m np\u001b[38;5;241m.\u001b[39mzeros((\u001b[38;5;28mself\u001b[39m\u001b[38;5;241m.\u001b[39mrepetitions, \u001b[38;5;28mself\u001b[39m\u001b[38;5;241m.\u001b[39mnumRounds[i]))\n\u001b[1;32m     69\u001b[0m \u001b[38;5;28;01mfor\u001b[39;00m j \u001b[38;5;129;01min\u001b[39;00m \u001b[38;5;28mrange\u001b[39m(\u001b[38;5;28mself\u001b[39m\u001b[38;5;241m.\u001b[39mnumRounds[i]):\n\u001b[0;32m---> 70\u001b[0m     strat1_action \u001b[38;5;241m=\u001b[39m \u001b[38;5;28mself\u001b[39m\u001b[38;5;241m.\u001b[39mstrat1\u001b[38;5;241m.\u001b[39maction(np\u001b[38;5;241m.\u001b[39mconcatenate((\u001b[38;5;28mself\u001b[39m\u001b[38;5;241m.\u001b[39mstrat1_actions[i, :j], \u001b[38;5;28mself\u001b[39m\u001b[38;5;241m.\u001b[39mstrat2_actions[i, :j]), axis\u001b[38;5;241m=\u001b[39m\u001b[38;5;241m1\u001b[39m))\n\u001b[1;32m     71\u001b[0m     strat2_action \u001b[38;5;241m=\u001b[39m \u001b[38;5;28mself\u001b[39m\u001b[38;5;241m.\u001b[39mstrat2\u001b[38;5;241m.\u001b[39maction(np\u001b[38;5;241m.\u001b[39mconcatenate((\u001b[38;5;28mself\u001b[39m\u001b[38;5;241m.\u001b[39mstrat2_actions[i, :j], \u001b[38;5;28mself\u001b[39m\u001b[38;5;241m.\u001b[39mstrat1_actions[i, :j]), axis\u001b[38;5;241m=\u001b[39m\u001b[38;5;241m1\u001b[39m))\n\u001b[1;32m     72\u001b[0m     \u001b[38;5;28mself\u001b[39m\u001b[38;5;241m.\u001b[39mstrat1_actions[i, j] \u001b[38;5;241m=\u001b[39m strat1_action\n",
      "File \u001b[0;32m<__array_function__ internals>:180\u001b[0m, in \u001b[0;36mconcatenate\u001b[0;34m(*args, **kwargs)\u001b[0m\n",
      "\u001b[0;31mAxisError\u001b[0m: axis 1 is out of bounds for array of dimension 1"
     ]
    }
   ],
   "source": [
    "testmatch = prisoner_dilemma.Match(nice, e4e)\n",
    "testmatch.play()\n",
    "testmatch.printscore()"
   ]
  },
  {
   "cell_type": "code",
   "execution_count": null,
   "metadata": {},
   "outputs": [],
   "source": []
  }
 ],
 "metadata": {
  "kernelspec": {
   "display_name": "gac_311",
   "language": "python",
   "name": "python3"
  },
  "language_info": {
   "codemirror_mode": {
    "name": "ipython",
    "version": 3
   },
   "file_extension": ".py",
   "mimetype": "text/x-python",
   "name": "python",
   "nbconvert_exporter": "python",
   "pygments_lexer": "ipython3",
   "version": "3.11.0"
  }
 },
 "nbformat": 4,
 "nbformat_minor": 2
}
